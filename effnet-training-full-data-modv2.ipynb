{
 "cells": [
  {
   "cell_type": "code",
   "execution_count": 1,
   "id": "included-presence",
   "metadata": {
    "execution": {
     "iopub.execute_input": "2021-05-23T16:12:45.542349Z",
     "iopub.status.busy": "2021-05-23T16:12:45.540840Z",
     "iopub.status.idle": "2021-05-23T16:12:51.902459Z",
     "shell.execute_reply": "2021-05-23T16:12:51.901850Z",
     "shell.execute_reply.started": "2021-05-23T15:58:20.515766Z"
    },
    "papermill": {
     "duration": 6.383212,
     "end_time": "2021-05-23T16:12:51.902616",
     "exception": false,
     "start_time": "2021-05-23T16:12:45.519404",
     "status": "completed"
    },
    "tags": []
   },
   "outputs": [],
   "source": [
    "import numpy as np\n",
    "import pandas as pd\n",
    "import os\n",
    "import matplotlib.pyplot as plt\n",
    "import soundfile as sf\n",
    "import librosa\n",
    "import librosa.display\n",
    "import IPython.display as display\n",
    "from sklearn.model_selection import train_test_split\n",
    "import numpy as np\n",
    "import tensorflow as tf\n",
    "\n",
    "from tensorflow.keras import layers\n",
    "from tensorflow.keras import Input\n",
    "from tensorflow.keras.utils import Sequence\n",
    "from tensorflow.keras.layers import Dense, Dropout, Flatten, Conv2D, MaxPool1D, BatchNormalization,Conv1D\n",
    "import tensorflow as tf\n",
    "from keras import Model\n",
    "# from keras.applications import ResNet50\n",
    "from tensorflow.keras.layers import AveragePooling2D,Lambda,ReLU,MultiHeadAttention,Embedding, LeakyReLU\n",
    "from tensorflow.keras.callbacks import Callback\n",
    "from tensorflow.keras.layers import Attention,GlobalAveragePooling1D,MultiHeadAttention\n",
    "from tensorflow.keras.optimizers import RMSprop,Adam\n",
    "from sklearn.preprocessing import StandardScaler\n",
    "from math import floor\n",
    "from math import pi\n",
    "import warnings\n",
    "import math\n",
    "warnings.filterwarnings(\"ignore\")\n",
    "import pickle\n",
    "\n"
   ]
  },
  {
   "cell_type": "code",
   "execution_count": 2,
   "id": "integral-underground",
   "metadata": {
    "execution": {
     "iopub.execute_input": "2021-05-23T16:12:51.940586Z",
     "iopub.status.busy": "2021-05-23T16:12:51.939796Z",
     "iopub.status.idle": "2021-05-23T16:12:51.946294Z",
     "shell.execute_reply": "2021-05-23T16:12:51.946698Z",
     "shell.execute_reply.started": "2021-05-23T15:58:42.433951Z"
    },
    "papermill": {
     "duration": 0.026111,
     "end_time": "2021-05-23T16:12:51.946821",
     "exception": false,
     "start_time": "2021-05-23T16:12:51.920710",
     "status": "completed"
    },
    "tags": []
   },
   "outputs": [
    {
     "data": {
      "text/plain": [
       "['train_soundscape_labels.csv',\n",
       " 'sample_submission.csv',\n",
       " 'train_soundscapes',\n",
       " 'train_short_audio',\n",
       " 'test.csv',\n",
       " 'train_metadata.csv',\n",
       " 'test_soundscapes']"
      ]
     },
     "execution_count": 2,
     "metadata": {},
     "output_type": "execute_result"
    }
   ],
   "source": [
    "path = '/kaggle/input/birdclef-2021/'\n",
    "os.listdir(path)"
   ]
  },
  {
   "cell_type": "code",
   "execution_count": 3,
   "id": "hispanic-pioneer",
   "metadata": {
    "execution": {
     "iopub.execute_input": "2021-05-23T16:12:51.988251Z",
     "iopub.status.busy": "2021-05-23T16:12:51.987434Z",
     "iopub.status.idle": "2021-05-23T16:12:51.990065Z",
     "shell.execute_reply": "2021-05-23T16:12:51.989659Z",
     "shell.execute_reply.started": "2021-05-23T15:59:13.090788Z"
    },
    "papermill": {
     "duration": 0.026664,
     "end_time": "2021-05-23T16:12:51.990177",
     "exception": false,
     "start_time": "2021-05-23T16:12:51.963513",
     "status": "completed"
    },
    "tags": []
   },
   "outputs": [],
   "source": [
    "def read_ogg_file(path, file):\n",
    "    \"\"\" Read ogg audio file and return numpay array and samplerate\"\"\"\n",
    "    \n",
    "    data, samplerate = sf.read(path+file)\n",
    "    return data, samplerate\n",
    "\n",
    "\n",
    "def plot_audio_file(data, samplerate):\n",
    "    \"\"\" Plot the audio data\"\"\"\n",
    "    \n",
    "    sr = samplerate\n",
    "    fig = plt.figure(figsize=(10,10))\n",
    "    x = range(len(data))\n",
    "    y = data\n",
    "    plt.plot(x, y)\n",
    "    plt.plot(x, y, color='red')\n",
    "    plt.legend(loc='upper center')\n",
    "    plt.grid()\n",
    "    \n",
    "    \n",
    "def plot_spectrogram(data, samplerate):\n",
    "    \"\"\" Plot spectrogram with mel scaling \"\"\"\n",
    "    \n",
    "    sr = samplerate\n",
    "    spectrogram = librosa.feature.melspectrogram(data, sr=sr)\n",
    "    log_spectrogram = librosa.power_to_db(spectrogram, ref=np.max)\n",
    "    librosa.display.specshow(log_spectrogram, sr=sr, x_axis='time', y_axis='mel')"
   ]
  },
  {
   "cell_type": "code",
   "execution_count": 4,
   "id": "outstanding-harvard",
   "metadata": {
    "execution": {
     "iopub.execute_input": "2021-05-23T16:12:52.026672Z",
     "iopub.status.busy": "2021-05-23T16:12:52.026197Z",
     "iopub.status.idle": "2021-05-23T16:12:52.036102Z",
     "shell.execute_reply": "2021-05-23T16:12:52.036494Z",
     "shell.execute_reply.started": "2021-05-23T15:59:13.103122Z"
    },
    "papermill": {
     "duration": 0.029962,
     "end_time": "2021-05-23T16:12:52.036620",
     "exception": false,
     "start_time": "2021-05-23T16:12:52.006658",
     "status": "completed"
    },
    "tags": []
   },
   "outputs": [
    {
     "data": {
      "text/plain": [
       "['train_metadata_enriched.csv',\n",
       " 'label_ids.pickle',\n",
       " '__results__.html',\n",
       " 'audio_images',\n",
       " '__notebook__.ipynb',\n",
       " '__output__.json',\n",
       " 'custom.css']"
      ]
     },
     "execution_count": 4,
     "metadata": {},
     "output_type": "execute_result"
    }
   ],
   "source": [
    "os.listdir('../input/mod-melspec-full-v2')"
   ]
  },
  {
   "cell_type": "code",
   "execution_count": 5,
   "id": "meaning-whole",
   "metadata": {
    "execution": {
     "iopub.execute_input": "2021-05-23T16:12:52.073253Z",
     "iopub.status.busy": "2021-05-23T16:12:52.072607Z",
     "iopub.status.idle": "2021-05-23T16:12:52.074834Z",
     "shell.execute_reply": "2021-05-23T16:12:52.075276Z",
     "shell.execute_reply.started": "2021-05-23T16:00:29.340219Z"
    },
    "papermill": {
     "duration": 0.022232,
     "end_time": "2021-05-23T16:12:52.075389",
     "exception": false,
     "start_time": "2021-05-23T16:12:52.053157",
     "status": "completed"
    },
    "tags": []
   },
   "outputs": [],
   "source": [
    "from tensorflow.keras.preprocessing.image import ImageDataGenerator"
   ]
  },
  {
   "cell_type": "code",
   "execution_count": 6,
   "id": "impressed-labor",
   "metadata": {
    "execution": {
     "iopub.execute_input": "2021-05-23T16:12:52.114350Z",
     "iopub.status.busy": "2021-05-23T16:12:52.113647Z",
     "iopub.status.idle": "2021-05-23T16:12:52.115798Z",
     "shell.execute_reply": "2021-05-23T16:12:52.116212Z"
    },
    "papermill": {
     "duration": 0.023986,
     "end_time": "2021-05-23T16:12:52.116326",
     "exception": false,
     "start_time": "2021-05-23T16:12:52.092340",
     "status": "completed"
    },
    "tags": []
   },
   "outputs": [],
   "source": [
    "# class MixupImageDataGenerator():\n",
    "#     def __init__(self, generator, directory, batch_size, img_height, img_width, alpha=0.2, subset=None):\n",
    "#         \"\"\"Constructor for mixup image data generator.\n",
    "#         Arguments:\n",
    "#             generator {object} -- An instance of Keras ImageDataGenerator.\n",
    "#             directory {str} -- Image directory.\n",
    "#             batch_size {int} -- Batch size.\n",
    "#             img_height {int} -- Image height in pixels.\n",
    "#             img_width {int} -- Image width in pixels.\n",
    "#         Keyword Arguments:\n",
    "#             alpha {float} -- Mixup beta distribution alpha parameter. (default: {0.2})\n",
    "#             subset {str} -- 'training' or 'validation' if validation_split is specified in\n",
    "#             `generator` (ImageDataGenerator).(default: {None})\n",
    "#         \"\"\"\n",
    "\n",
    "#         self.batch_index = 0\n",
    "#         self.batch_size = batch_size\n",
    "#         self.alpha = alpha\n",
    "\n",
    "#         # First iterator yielding tuples of (x, y)\n",
    "#         self.generator1 = generator.flow_from_directory(directory,\n",
    "#                                                         target_size=(\n",
    "#                                                             img_height, img_width),\n",
    "#                                                         class_mode=\"categorical\",\n",
    "#                                                         batch_size=batch_size,\n",
    "#                                                         shuffle=True,\n",
    "#                                                         )\n",
    "\n",
    "#         # Second iterator yielding tuples of (x, y)\n",
    "#         self.generator2 = generator.flow_from_directory(directory,\n",
    "#                                                         target_size=(\n",
    "#                                                             img_height, img_width),\n",
    "#                                                         class_mode=\"categorical\",\n",
    "#                                                         batch_size=batch_size,\n",
    "#                                                         shuffle=True,\n",
    "#                                                         )\n",
    "\n",
    "#         # Number of images across all classes in image directory.\n",
    "#         self.n = self.generator1.samples\n",
    "#         self.class_indices=self.generator1.class_indices\n",
    "\n",
    "#     def reset_index(self):\n",
    "#         \"\"\"Reset the generator indexes array.\n",
    "#         \"\"\"\n",
    "\n",
    "#         self.generator1._set_index_array()\n",
    "#         self.generator2._set_index_array()\n",
    "\n",
    "#     def on_epoch_end(self):\n",
    "#         self.reset_index()\n",
    "\n",
    "#     def reset(self):\n",
    "#         self.batch_index = 0\n",
    "\n",
    "#     def __len__(self):\n",
    "#         # round up\n",
    "#         return (self.n + self.batch_size - 1) // self.batch_size\n",
    "\n",
    "#     def get_steps_per_epoch(self):\n",
    "#         \"\"\"Get number of steps per epoch based on batch size and\n",
    "#         number of images.\n",
    "#         Returns:\n",
    "#             int -- steps per epoch.\n",
    "#         \"\"\"\n",
    "\n",
    "#         return self.n // self.batch_size\n",
    "\n",
    "#     def __next__(self):\n",
    "#         \"\"\"Get next batch input/output pair.\n",
    "#         Returns:\n",
    "#             tuple -- batch of input/output pair, (inputs, outputs).\n",
    "#         \"\"\"\n",
    "\n",
    "#         if self.batch_index == 0:\n",
    "#             self.reset_index()\n",
    "\n",
    "#         current_index = (self.batch_index * self.batch_size) % self.n\n",
    "#         if self.n > current_index + self.batch_size:\n",
    "#             self.batch_index += 1\n",
    "#         else:\n",
    "#             self.batch_index = 0\n",
    "\n",
    "#         # random sample the lambda value from beta distribution.\n",
    "#         l = np.random.beta(self.alpha, self.alpha, self.batch_size)\n",
    "\n",
    "#         X_l = l.reshape(self.batch_size, 1, 1, 1)\n",
    "#         y_l = l.reshape(self.batch_size, 1)\n",
    "\n",
    "#         # Get a pair of inputs and outputs from two iterators.\n",
    "#         X1, y1 = self.generator1.next()\n",
    "#         X2, y2 = self.generator2.next()\n",
    "\n",
    "#         # Perform the mixup.\n",
    "#         X = X1 * X_l + X2 * (1 - X_l)\n",
    "#         y = y1 * y_l + y2 * (1 - y_l)\n",
    "#         return X, y\n",
    "\n",
    "#     def __iter__(self):\n",
    "#         while True:\n",
    "#             yield next(self)"
   ]
  },
  {
   "cell_type": "code",
   "execution_count": 7,
   "id": "dutch-latvia",
   "metadata": {
    "execution": {
     "iopub.execute_input": "2021-05-23T16:12:52.153964Z",
     "iopub.status.busy": "2021-05-23T16:12:52.153256Z",
     "iopub.status.idle": "2021-05-23T16:12:52.155779Z",
     "shell.execute_reply": "2021-05-23T16:12:52.155403Z",
     "shell.execute_reply.started": "2021-05-23T16:00:34.868922Z"
    },
    "papermill": {
     "duration": 0.022617,
     "end_time": "2021-05-23T16:12:52.155875",
     "exception": false,
     "start_time": "2021-05-23T16:12:52.133258",
     "status": "completed"
    },
    "tags": []
   },
   "outputs": [],
   "source": [
    "train_gen=ImageDataGenerator()\n",
    "val_gen=ImageDataGenerator()"
   ]
  },
  {
   "cell_type": "code",
   "execution_count": 8,
   "id": "dynamic-increase",
   "metadata": {
    "execution": {
     "iopub.execute_input": "2021-05-23T16:12:52.193177Z",
     "iopub.status.busy": "2021-05-23T16:12:52.192438Z",
     "iopub.status.idle": "2021-05-23T16:12:52.195345Z",
     "shell.execute_reply": "2021-05-23T16:12:52.194891Z"
    },
    "papermill": {
     "duration": 0.022702,
     "end_time": "2021-05-23T16:12:52.195446",
     "exception": false,
     "start_time": "2021-05-23T16:12:52.172744",
     "status": "completed"
    },
    "tags": []
   },
   "outputs": [],
   "source": [
    "# train_generator = MixupImageDataGenerator(generator=train_gen,\n",
    "#                                           directory='../input/melspec-on-full-data/audio_images/train/',\n",
    "#                                           batch_size=100,\n",
    "#                                           img_height=224,\n",
    "#                                           img_width=224,\n",
    "#                                           )\n"
   ]
  },
  {
   "cell_type": "code",
   "execution_count": 9,
   "id": "mature-guess",
   "metadata": {
    "execution": {
     "iopub.execute_input": "2021-05-23T16:12:52.235208Z",
     "iopub.status.busy": "2021-05-23T16:12:52.234630Z",
     "iopub.status.idle": "2021-05-23T16:13:05.708928Z",
     "shell.execute_reply": "2021-05-23T16:13:05.708505Z",
     "shell.execute_reply.started": "2021-05-23T16:01:32.050188Z"
    },
    "papermill": {
     "duration": 13.496044,
     "end_time": "2021-05-23T16:13:05.709068",
     "exception": false,
     "start_time": "2021-05-23T16:12:52.213024",
     "status": "completed"
    },
    "tags": []
   },
   "outputs": [
    {
     "name": "stdout",
     "output_type": "stream",
     "text": [
      "Found 108696 images belonging to 397 classes.\n"
     ]
    }
   ],
   "source": [
    "train_generator = train_gen.flow_from_directory(\n",
    "    '../input/mod-melspec-full-v2/audio_images/train/',\n",
    "    target_size=(224,224),\n",
    "    color_mode=\"rgb\",\n",
    "    classes=None,\n",
    "    class_mode=\"categorical\",\n",
    "    batch_size=128,\n",
    "    shuffle=True,\n",
    "#     seed=2021,\n",
    "    save_to_dir=None,\n",
    "    subset=None,\n",
    "#     interpolation=\"nearest\",\n",
    ")"
   ]
  },
  {
   "cell_type": "code",
   "execution_count": 10,
   "id": "defensive-lotus",
   "metadata": {
    "execution": {
     "iopub.execute_input": "2021-05-23T16:13:05.749265Z",
     "iopub.status.busy": "2021-05-23T16:13:05.748568Z",
     "iopub.status.idle": "2021-05-23T16:13:05.751379Z",
     "shell.execute_reply": "2021-05-23T16:13:05.750926Z",
     "shell.execute_reply.started": "2021-05-23T16:02:18.280458Z"
    },
    "papermill": {
     "duration": 0.024884,
     "end_time": "2021-05-23T16:13:05.751489",
     "exception": false,
     "start_time": "2021-05-23T16:13:05.726605",
     "status": "completed"
    },
    "tags": []
   },
   "outputs": [],
   "source": [
    "class_dict=train_generator.class_indices\n",
    "with open('class_dictionary,pickle','wb') as f:\n",
    "    pickle.dump(class_dict,f)"
   ]
  },
  {
   "cell_type": "code",
   "execution_count": 11,
   "id": "utility-trainer",
   "metadata": {
    "execution": {
     "iopub.execute_input": "2021-05-23T16:13:05.789921Z",
     "iopub.status.busy": "2021-05-23T16:13:05.789439Z",
     "iopub.status.idle": "2021-05-23T16:13:08.710111Z",
     "shell.execute_reply": "2021-05-23T16:13:08.710805Z",
     "shell.execute_reply.started": "2021-05-23T16:02:33.557208Z"
    },
    "papermill": {
     "duration": 2.942114,
     "end_time": "2021-05-23T16:13:08.710959",
     "exception": false,
     "start_time": "2021-05-23T16:13:05.768845",
     "status": "completed"
    },
    "tags": []
   },
   "outputs": [
    {
     "name": "stdout",
     "output_type": "stream",
     "text": [
      "Found 30667 images belonging to 397 classes.\n"
     ]
    }
   ],
   "source": [
    "val_generator = val_gen.flow_from_directory(\n",
    "    '../input/mod-melspec-full-v2/audio_images/val/',\n",
    "    target_size=(224,224),\n",
    "    color_mode=\"rgb\",\n",
    "    class_mode=\"categorical\",\n",
    "    batch_size=128,\n",
    "\n",
    " \n",
    "#     interpolation=\"nearest\",\n",
    ")"
   ]
  },
  {
   "cell_type": "code",
   "execution_count": 12,
   "id": "planned-colon",
   "metadata": {
    "execution": {
     "iopub.execute_input": "2021-05-23T16:13:08.752463Z",
     "iopub.status.busy": "2021-05-23T16:13:08.751775Z",
     "iopub.status.idle": "2021-05-23T16:13:08.754712Z",
     "shell.execute_reply": "2021-05-23T16:13:08.754304Z",
     "shell.execute_reply.started": "2021-05-23T16:02:50.576823Z"
    },
    "papermill": {
     "duration": 0.026002,
     "end_time": "2021-05-23T16:13:08.754819",
     "exception": false,
     "start_time": "2021-05-23T16:13:08.728817",
     "status": "completed"
    },
    "tags": []
   },
   "outputs": [],
   "source": [
    "import keras.backend as K\n",
    "def model_loss(a,gamma=2):\n",
    "    def focal_loss(y_true,y_pred):\n",
    "        epsilon = K.epsilon()\n",
    "        y_pred = K.clip(y_pred, epsilon, 1.0 - epsilon)\n",
    "        FL1=-a*K.pow((1-y_pred),gamma)*y_true*K.log(y_pred)\n",
    "        FL2=-(1-a)*(1-y_true)*(y_pred**gamma)*K.log(1-y_pred)\n",
    "        loss=K.mean(FL1+FL2)\n",
    "        return loss\n",
    "    return focal_loss\n",
    "    \n",
    "   "
   ]
  },
  {
   "cell_type": "code",
   "execution_count": 13,
   "id": "actual-flush",
   "metadata": {
    "execution": {
     "iopub.execute_input": "2021-05-23T16:13:08.793929Z",
     "iopub.status.busy": "2021-05-23T16:13:08.793266Z",
     "iopub.status.idle": "2021-05-23T16:13:08.795933Z",
     "shell.execute_reply": "2021-05-23T16:13:08.795542Z",
     "shell.execute_reply.started": "2021-05-23T16:02:53.955751Z"
    },
    "papermill": {
     "duration": 0.023589,
     "end_time": "2021-05-23T16:13:08.796047",
     "exception": false,
     "start_time": "2021-05-23T16:13:08.772458",
     "status": "completed"
    },
    "tags": []
   },
   "outputs": [],
   "source": [
    "def scheduler(epoch,lr):\n",
    "    if epoch < 4:\n",
    "        return lr\n",
    "    elif epoch < 7 and epoch >=4:\n",
    "        return lr*0.8\n",
    "    else:\n",
    "        return 0.9*lr"
   ]
  },
  {
   "cell_type": "code",
   "execution_count": 14,
   "id": "intensive-delta",
   "metadata": {
    "execution": {
     "iopub.execute_input": "2021-05-23T16:13:08.838288Z",
     "iopub.status.busy": "2021-05-23T16:13:08.837455Z",
     "iopub.status.idle": "2021-05-23T16:13:08.840139Z",
     "shell.execute_reply": "2021-05-23T16:13:08.839708Z",
     "shell.execute_reply.started": "2021-05-23T16:02:57.093557Z"
    },
    "papermill": {
     "duration": 0.026803,
     "end_time": "2021-05-23T16:13:08.840253",
     "exception": false,
     "start_time": "2021-05-23T16:13:08.813450",
     "status": "completed"
    },
    "tags": []
   },
   "outputs": [],
   "source": [
    "def f1_score(y_true,y_pred):\n",
    "    TP=K.sum(K.round(K.clip(y_true*y_pred,0,1)),axis=1)\n",
    "    TPFN=K.sum(K.round(K.clip(y_true,0,1)),axis=1)\n",
    "    TPFP=K.sum(K.round(K.clip(y_pred,0,1)),axis=1)\n",
    "    PREC=TP/(TPFP+K.epsilon())\n",
    "    REC=TP/(TPFN+K.epsilon())\n",
    "    f1=K.mean(2*PREC*REC/(PREC+REC+K.epsilon()))\n",
    "    return f1\n"
   ]
  },
  {
   "cell_type": "code",
   "execution_count": 15,
   "id": "pharmaceutical-accessory",
   "metadata": {
    "execution": {
     "iopub.execute_input": "2021-05-23T16:13:08.879631Z",
     "iopub.status.busy": "2021-05-23T16:13:08.878916Z",
     "iopub.status.idle": "2021-05-23T16:13:08.881225Z",
     "shell.execute_reply": "2021-05-23T16:13:08.881684Z",
     "shell.execute_reply.started": "2021-05-23T16:03:01.765318Z"
    },
    "papermill": {
     "duration": 0.023703,
     "end_time": "2021-05-23T16:13:08.881813",
     "exception": false,
     "start_time": "2021-05-23T16:13:08.858110",
     "status": "completed"
    },
    "tags": []
   },
   "outputs": [],
   "source": [
    "from tensorflow.keras.applications import DenseNet121, EfficientNetB0,ResNet50,DenseNet169\n",
    "from tensorflow.keras.layers import Reshape"
   ]
  },
  {
   "cell_type": "code",
   "execution_count": 16,
   "id": "american-dinner",
   "metadata": {
    "execution": {
     "iopub.execute_input": "2021-05-23T16:13:08.923880Z",
     "iopub.status.busy": "2021-05-23T16:13:08.923195Z",
     "iopub.status.idle": "2021-05-23T16:13:08.925807Z",
     "shell.execute_reply": "2021-05-23T16:13:08.925417Z",
     "shell.execute_reply.started": "2021-05-23T16:03:06.996900Z"
    },
    "papermill": {
     "duration": 0.026529,
     "end_time": "2021-05-23T16:13:08.925909",
     "exception": false,
     "start_time": "2021-05-23T16:13:08.899380",
     "status": "completed"
    },
    "tags": []
   },
   "outputs": [],
   "source": [
    "def sed_model(name):\n",
    "    if 'efficientnetb0' in name:\n",
    "        top_model=EfficientNetB0(include_top=False,weights=\"imagenet\",input_tensor=Input(shape=(224,224,3)),input_shape=None)\n",
    "    if 'densenet121' in name:\n",
    "        top_model=DenseNet121(include_top=False,weights=\"imagenet\",input_tensor=Input(shape=(224,224,3)),input_shape=None)\n",
    "    if 'densenet169' in name:\n",
    "        top_model=DenseNet169(include_top=False,weights=\"imagenet\",input_tensor=Input(shape=(224,224,3)),input_shape=None)\n",
    "    if 'resnet' in name:\n",
    "        top_model=ResNet50(include_top=False,weights=\"imagenet\",input_tensor=Input(shape=(224,224,3)),input_shape=None)\n",
    "    \n",
    "#     headModel=Dense(1024)(top_model.layers[-1].output)\n",
    "#     headModel=LeakyReLU(alpha=0.3)(headModel)\n",
    "#     headModel=Dropout(0.5)(headModel)\n",
    "# #     headModel=Dense(64)(headModel)\n",
    "# #     headModel=LeakyReLU(alpha=0.3)(headModel)\n",
    "    headModel=Flatten()(top_model.layers[-1].output)\n",
    "    output=Dense(397, activation=\"sigmoid\")(headModel)\n",
    "    model = Model(inputs=top_model.input, outputs=output)\n",
    "    return model\n",
    "\n"
   ]
  },
  {
   "cell_type": "code",
   "execution_count": 17,
   "id": "promising-destiny",
   "metadata": {
    "execution": {
     "iopub.execute_input": "2021-05-23T16:13:08.963800Z",
     "iopub.status.busy": "2021-05-23T16:13:08.963142Z",
     "iopub.status.idle": "2021-05-23T16:13:08.965314Z",
     "shell.execute_reply": "2021-05-23T16:13:08.965706Z",
     "shell.execute_reply.started": "2021-05-23T16:03:15.935708Z"
    },
    "papermill": {
     "duration": 0.022671,
     "end_time": "2021-05-23T16:13:08.965815",
     "exception": false,
     "start_time": "2021-05-23T16:13:08.943144",
     "status": "completed"
    },
    "tags": []
   },
   "outputs": [],
   "source": [
    "epochs = 10\n",
    "# cycles=2\n",
    "# lernrate = 1e-3\n",
    "# max_rate=0.01"
   ]
  },
  {
   "cell_type": "code",
   "execution_count": 18,
   "id": "cultural-distribution",
   "metadata": {
    "execution": {
     "iopub.execute_input": "2021-05-23T16:13:09.010132Z",
     "iopub.status.busy": "2021-05-23T16:13:09.009355Z",
     "iopub.status.idle": "2021-05-23T16:13:09.011495Z",
     "shell.execute_reply": "2021-05-23T16:13:09.011912Z",
     "shell.execute_reply.started": "2021-05-23T16:03:15.943984Z"
    },
    "papermill": {
     "duration": 0.028788,
     "end_time": "2021-05-23T16:13:09.012022",
     "exception": false,
     "start_time": "2021-05-23T16:13:08.983234",
     "status": "completed"
    },
    "tags": []
   },
   "outputs": [],
   "source": [
    "def plot_training(history,name):\n",
    "    fig, axs = plt.subplots(1, 2, figsize=(16, 4))\n",
    "    fig.subplots_adjust(hspace = .2, wspace=.2)\n",
    "    axs = axs.ravel()\n",
    "    loss = history.history['loss']\n",
    "    loss_val = history.history['val_loss']\n",
    "    epochs = range(1, len(loss)+1)\n",
    "    axs[0].plot(epochs, loss, 'bo', label='loss_train')\n",
    "    axs[0].plot(epochs, loss_val, 'ro', label='loss_val')\n",
    "    axs[0].set_title('Value of the loss function')\n",
    "    axs[0].set_xlabel('epochs')\n",
    "    axs[0].set_ylabel('value of the loss function')\n",
    "    axs[0].legend()\n",
    "    axs[0].grid()\n",
    "    acc = history.history['accuracy']\n",
    "    acc_val = history.history['val_accuracy']\n",
    "    axs[1].plot(epochs, acc, 'bo', label='accuracy_train')\n",
    "    axs[1].plot(epochs, acc_val, 'ro', label='accuracy_val')\n",
    "    axs[1].set_title('Accuracy')\n",
    "    axs[1].set_xlabel('Epochs')\n",
    "    axs[1].set_ylabel('Value of accuracy')\n",
    "    axs[1].legend()\n",
    "    axs[1].grid()\n",
    "\n",
    "#     f1 = history.history['f1_score']\n",
    "#     f1_val = history.history['val_f1_score']\n",
    "#     axs[2].plot(epochs, f1, 'bo', label='mic_avg_f1_score_train')\n",
    "#     axs[2].plot(epochs, f1_val, 'ro', label='mic_avg_f1_score_val')\n",
    "#     axs[2].set_title('Micro Average F1 Score')\n",
    "#     axs[2].set_xlabel('Epochs')\n",
    "#     axs[2].set_ylabel('Value of F1 score')\n",
    "#     axs[2].legend()\n",
    "#     axs[2].grid()\n",
    "\n",
    "\n",
    "    plt.show()\n",
    "#     fig.savefig('train_model_{}.png'.format(name))"
   ]
  },
  {
   "cell_type": "code",
   "execution_count": 19,
   "id": "difficult-decade",
   "metadata": {
    "execution": {
     "iopub.execute_input": "2021-05-23T16:13:09.050204Z",
     "iopub.status.busy": "2021-05-23T16:13:09.049539Z",
     "iopub.status.idle": "2021-05-23T16:13:09.052292Z",
     "shell.execute_reply": "2021-05-23T16:13:09.051827Z",
     "shell.execute_reply.started": "2021-05-23T16:03:15.962086Z"
    },
    "papermill": {
     "duration": 0.023127,
     "end_time": "2021-05-23T16:13:09.052393",
     "exception": false,
     "start_time": "2021-05-23T16:13:09.029266",
     "status": "completed"
    },
    "tags": []
   },
   "outputs": [],
   "source": [
    "models=['efficientnetb0','densenet121','resnet']"
   ]
  },
  {
   "cell_type": "code",
   "execution_count": 20,
   "id": "matched-hormone",
   "metadata": {
    "execution": {
     "iopub.execute_input": "2021-05-23T16:13:09.090584Z",
     "iopub.status.busy": "2021-05-23T16:13:09.089913Z",
     "iopub.status.idle": "2021-05-23T16:13:09.092673Z",
     "shell.execute_reply": "2021-05-23T16:13:09.092275Z",
     "shell.execute_reply.started": "2021-05-23T16:03:15.977928Z"
    },
    "papermill": {
     "duration": 0.023133,
     "end_time": "2021-05-23T16:13:09.092775",
     "exception": false,
     "start_time": "2021-05-23T16:13:09.069642",
     "status": "completed"
    },
    "tags": []
   },
   "outputs": [],
   "source": [
    "from tensorflow.keras.callbacks import ReduceLROnPlateau"
   ]
  },
  {
   "cell_type": "code",
   "execution_count": 21,
   "id": "sought-teaching",
   "metadata": {
    "execution": {
     "iopub.execute_input": "2021-05-23T16:13:09.131748Z",
     "iopub.status.busy": "2021-05-23T16:13:09.131068Z",
     "iopub.status.idle": "2021-05-23T16:13:09.133845Z",
     "shell.execute_reply": "2021-05-23T16:13:09.133456Z",
     "shell.execute_reply.started": "2021-05-23T16:03:25.705559Z"
    },
    "papermill": {
     "duration": 0.023561,
     "end_time": "2021-05-23T16:13:09.133944",
     "exception": false,
     "start_time": "2021-05-23T16:13:09.110383",
     "status": "completed"
    },
    "tags": []
   },
   "outputs": [],
   "source": [
    "from tensorflow.keras.losses import BinaryCrossentropy\n",
    "BCELoss=BinaryCrossentropy(\n",
    "    from_logits=False, label_smoothing=0.01, \n",
    "    name='binary_crossentropy'\n",
    ")"
   ]
  },
  {
   "cell_type": "code",
   "execution_count": 22,
   "id": "anonymous-vinyl",
   "metadata": {
    "execution": {
     "iopub.execute_input": "2021-05-23T16:13:09.171902Z",
     "iopub.status.busy": "2021-05-23T16:13:09.171265Z",
     "iopub.status.idle": "2021-05-23T16:13:09.173901Z",
     "shell.execute_reply": "2021-05-23T16:13:09.173527Z",
     "shell.execute_reply.started": "2021-05-23T16:03:25.713692Z"
    },
    "papermill": {
     "duration": 0.022796,
     "end_time": "2021-05-23T16:13:09.173999",
     "exception": false,
     "start_time": "2021-05-23T16:13:09.151203",
     "status": "completed"
    },
    "tags": []
   },
   "outputs": [],
   "source": [
    "from tensorflow.keras.optimizers import Adam,SGD"
   ]
  },
  {
   "cell_type": "code",
   "execution_count": 23,
   "id": "integrated-theory",
   "metadata": {
    "execution": {
     "iopub.execute_input": "2021-05-23T16:13:09.212005Z",
     "iopub.status.busy": "2021-05-23T16:13:09.211351Z",
     "iopub.status.idle": "2021-05-23T16:13:09.213617Z",
     "shell.execute_reply": "2021-05-23T16:13:09.213973Z",
     "shell.execute_reply.started": "2021-05-23T16:03:25.726836Z"
    },
    "papermill": {
     "duration": 0.022769,
     "end_time": "2021-05-23T16:13:09.214120",
     "exception": false,
     "start_time": "2021-05-23T16:13:09.191351",
     "status": "completed"
    },
    "tags": []
   },
   "outputs": [],
   "source": [
    "\n",
    "# for model_name in models[:1]:\n",
    "#     print(\"************ Model{} *************\".format(model_name))\n",
    "#     model=sed_model(model_name)\n",
    "#     opt =Adam(learning_rate=0.001)\n",
    "#     reduce_lr = ReduceLROnPlateau(monitor='val_loss', factor=0.5,patience=2, min_lr=0.0001)\n",
    "#     model.compile(opt,loss=BCELoss,metrics=['accuracy'])\n",
    "#     model_checkpoint_callback = tf.keras.callbacks.ModelCheckpoint(filepath='./{}_model.h5'.format(model_name),monitor='val_accuracy',verbose=1,mode='max',save_best_only=True)\n",
    "#     history=model.fit_generator(train_generator,validation_data=val_generator,epochs = epochs, workers=4,callbacks=[model_checkpoint_callback,reduce_lr],use_multiprocessing=True)\n",
    "#     with open('history_{}.pickle'.format(model_name), 'wb') as file:\n",
    "#         pickle.dump(history.history, file)\n",
    "# #     plot_training(history, model_name)\n",
    "#     del model\n",
    "\n",
    "    "
   ]
  },
  {
   "cell_type": "code",
   "execution_count": 24,
   "id": "surprised-planning",
   "metadata": {
    "execution": {
     "iopub.execute_input": "2021-05-23T16:13:09.255151Z",
     "iopub.status.busy": "2021-05-23T16:13:09.254638Z",
     "iopub.status.idle": "2021-05-23T18:56:43.803696Z",
     "shell.execute_reply": "2021-05-23T18:56:43.802952Z",
     "shell.execute_reply.started": "2021-05-23T16:03:25.735422Z"
    },
    "papermill": {
     "duration": 9814.572488,
     "end_time": "2021-05-23T18:56:43.803872",
     "exception": false,
     "start_time": "2021-05-23T16:13:09.231384",
     "status": "completed"
    },
    "tags": []
   },
   "outputs": [
    {
     "name": "stdout",
     "output_type": "stream",
     "text": [
      "************ Modelefficientnetb0 *************\n",
      "Downloading data from https://storage.googleapis.com/keras-applications/efficientnetb0_notop.h5\n",
      "16711680/16705208 [==============================] - 0s 0us/step\n",
      "Epoch 1/10\n",
      "850/850 [==============================] - 955s 1s/step - loss: 0.0594 - accuracy: 0.1271 - val_loss: 0.0418 - val_accuracy: 0.3427\n",
      "\n",
      "Epoch 00001: val_accuracy improved from -inf to 0.34275, saving model to ./efficientnetb0_model.h5\n",
      "Epoch 2/10\n",
      "850/850 [==============================] - 968s 1s/step - loss: 0.0394 - accuracy: 0.5411 - val_loss: 0.0418 - val_accuracy: 0.4081\n",
      "\n",
      "Epoch 00002: val_accuracy improved from 0.34275 to 0.40806, saving model to ./efficientnetb0_model.h5\n",
      "Epoch 3/10\n",
      "850/850 [==============================] - 974s 1s/step - loss: 0.0366 - accuracy: 0.8095 - val_loss: 0.0419 - val_accuracy: 0.4145\n",
      "\n",
      "Epoch 00003: val_accuracy improved from 0.40806 to 0.41445, saving model to ./efficientnetb0_model.h5\n",
      "Epoch 4/10\n",
      "850/850 [==============================] - 979s 1s/step - loss: 0.0344 - accuracy: 0.9672 - val_loss: 0.0400 - val_accuracy: 0.4737\n",
      "\n",
      "Epoch 00004: val_accuracy improved from 0.41445 to 0.47370, saving model to ./efficientnetb0_model.h5\n",
      "Epoch 5/10\n",
      "850/850 [==============================] - 988s 1s/step - loss: 0.0334 - accuracy: 0.9942 - val_loss: 0.0399 - val_accuracy: 0.4774\n",
      "\n",
      "Epoch 00005: val_accuracy improved from 0.47370 to 0.47735, saving model to ./efficientnetb0_model.h5\n",
      "Epoch 6/10\n",
      "850/850 [==============================] - 984s 1s/step - loss: 0.0331 - accuracy: 0.9975 - val_loss: 0.0400 - val_accuracy: 0.4761\n",
      "\n",
      "Epoch 00006: val_accuracy did not improve from 0.47735\n",
      "Epoch 7/10\n",
      "850/850 [==============================] - 981s 1s/step - loss: 0.0328 - accuracy: 0.9987 - val_loss: 0.0394 - val_accuracy: 0.4945\n",
      "\n",
      "Epoch 00007: val_accuracy improved from 0.47735 to 0.49447, saving model to ./efficientnetb0_model.h5\n",
      "Epoch 8/10\n",
      "850/850 [==============================] - 977s 1s/step - loss: 0.0326 - accuracy: 0.9992 - val_loss: 0.0395 - val_accuracy: 0.4977\n",
      "\n",
      "Epoch 00008: val_accuracy improved from 0.49447 to 0.49770, saving model to ./efficientnetb0_model.h5\n",
      "Epoch 9/10\n",
      "850/850 [==============================] - 986s 1s/step - loss: 0.0325 - accuracy: 0.9991 - val_loss: 0.0394 - val_accuracy: 0.4951\n",
      "\n",
      "Epoch 00009: val_accuracy did not improve from 0.49770\n",
      "Epoch 10/10\n",
      "850/850 [==============================] - 982s 1s/step - loss: 0.0324 - accuracy: 0.9994 - val_loss: 0.0392 - val_accuracy: 0.5033\n",
      "\n",
      "Epoch 00010: val_accuracy improved from 0.49770 to 0.50328, saving model to ./efficientnetb0_model.h5\n"
     ]
    }
   ],
   "source": [
    "model_name='efficientnetb0'\n",
    "print(\"************ Model{} *************\".format(model_name))\n",
    "model=sed_model(model_name)\n",
    "opt =Adam(learning_rate=0.001)\n",
    "reduce_lr = ReduceLROnPlateau(monitor='val_loss', factor=0.5,patience=2, min_lr=0.0001)\n",
    "model.compile(opt,loss=BCELoss,metrics=['accuracy'])\n",
    "model_checkpoint_callback = tf.keras.callbacks.ModelCheckpoint(filepath='./{}_model.h5'.format(model_name),monitor='val_accuracy',verbose=1,mode='max',save_best_only=True)\n",
    "history=model.fit_generator(train_generator,validation_data=val_generator,epochs = epochs, workers=4,callbacks=[model_checkpoint_callback,reduce_lr],use_multiprocessing=True)\n",
    "with open('history_{}.pickle'.format(model_name), 'wb') as file:\n",
    "    pickle.dump(history.history, file)\n",
    "#     plot_training(history, model_name)\n",
    "del model\n",
    "\n"
   ]
  }
 ],
 "metadata": {
  "kernelspec": {
   "display_name": "Python 3",
   "language": "python",
   "name": "python3"
  },
  "language_info": {
   "codemirror_mode": {
    "name": "ipython",
    "version": 3
   },
   "file_extension": ".py",
   "mimetype": "text/x-python",
   "name": "python",
   "nbconvert_exporter": "python",
   "pygments_lexer": "ipython3",
   "version": "3.7.10"
  },
  "papermill": {
   "default_parameters": {},
   "duration": 9850.587403,
   "end_time": "2021-05-23T18:56:49.579496",
   "environment_variables": {},
   "exception": null,
   "input_path": "__notebook__.ipynb",
   "output_path": "__notebook__.ipynb",
   "parameters": {},
   "start_time": "2021-05-23T16:12:38.992093",
   "version": "2.3.3"
  }
 },
 "nbformat": 4,
 "nbformat_minor": 5
}
